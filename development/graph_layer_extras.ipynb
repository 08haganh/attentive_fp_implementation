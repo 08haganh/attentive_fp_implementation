{
 "cells": [
  {
   "cell_type": "code",
   "execution_count": 1,
   "metadata": {},
   "outputs": [],
   "source": [
    "# Develop Graph Layer Extras"
   ]
  },
  {
   "cell_type": "code",
   "execution_count": 6,
   "metadata": {},
   "outputs": [],
   "source": [
    "class GraphLayerExtras(object):\n",
    "\n",
    "    '''\n",
    "    An extension of the GraphLayer\n",
    "    '''\n",
    "\n",
    "    def __init__(\n",
    "        self,\n",
    "        node_attribute_dim: int,\n",
    "\n",
    "        ) -> None:\n",
    "        pass\n",
    "\n",
    "    def forward(\n",
    "        self,\n",
    "        x,\n",
    "        batch_index,\n",
    "        graph_nodes,\n",
    "\n",
    "        ) -> None:\n",
    "\n",
    "        '''\n",
    "        Args:\n",
    "\n",
    "            x (torch.tensor): node features for all of the nodes in the batch of dims n_nodes by \n",
    "                dim\n",
    "            batch_index (torch.tensor): tensor detailing to which graph in the batch each node \n",
    "                belongs. If None, assumes all of the nodes are from a single graph\n",
    "            graph_nodes (torch.tensor: a tensor containing the graph embedding for each graph\n",
    "                in the batch. If None, the graph_nodes are calculated by summing the nodes\n",
    "                across the batch_index\n",
    "        '''\n",
    "\n",
    "        \n",
    "        pass"
   ]
  },
  {
   "cell_type": "code",
   "execution_count": null,
   "metadata": {},
   "outputs": [],
   "source": []
  }
 ],
 "metadata": {
  "kernelspec": {
   "display_name": "pytorch",
   "language": "python",
   "name": "python3"
  },
  "language_info": {
   "codemirror_mode": {
    "name": "ipython",
    "version": 3
   },
   "file_extension": ".py",
   "mimetype": "text/x-python",
   "name": "python",
   "nbconvert_exporter": "python",
   "pygments_lexer": "ipython3",
   "version": "3.10.9"
  },
  "orig_nbformat": 4,
  "vscode": {
   "interpreter": {
    "hash": "f5b916051ec391ef3c1c0123575e59cad2c35863d294dd079abc5845c0e5babb"
   }
  }
 },
 "nbformat": 4,
 "nbformat_minor": 2
}
